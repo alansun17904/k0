{
 "cells": [
  {
   "cell_type": "code",
   "execution_count": 4,
   "metadata": {},
   "outputs": [],
   "source": [
    "import pandas as pd\n",
    "\n",
    "models = [\n",
    "    \"bert-large-uncased\",\n",
    "    \"bert-base-uncased\",\n",
    "    \"roberta-base\",\n",
    "    \"roberta-large\",\n",
    "    \"gpt2\",\n",
    "    \"t5-base\",\n",
    "    \"t5-small\"\n",
    "]\n",
    "\n",
    "X = []\n",
    "\n",
    "for m in models:\n",
    "    csv_file = f'../data/adversarial-attacks/tf-{m}.csv'\n",
    "\n",
    "    # Read the CSV file into a pandas DataFrame\n",
    "    df = pd.read_csv(csv_file)\n",
    "    \n",
    "    num_success = (df['result_type'] == \"Successful\").sum()\n",
    "    \n",
    "    X.append((m, num_success))\n"
   ]
  },
  {
   "cell_type": "code",
   "execution_count": 6,
   "metadata": {},
   "outputs": [
    {
     "data": {
      "image/png": "[encoded data removed]",
      "text/plain": [
       "<Figure size 432x288 with 1 Axes>"
      ]
     },
     "metadata": {
      "needs_background": "light"
     },
     "output_type": "display_data"
    }
   ],
   "source": [
    "import matplotlib.pyplot as plt\n",
    "\n",
    "# Sort the data in descending order\n",
    "sorted_data = sorted(X, key=lambda x: x[1], reverse=True)\n",
    "categories, values = zip(*sorted_data)\n",
    "\n",
    "# Create a bar chart\n",
    "plt.barh(categories, values, color='skyblue')\n",
    "\n",
    "# Add labels and a title\n",
    "plt.xlabel('Number of Successful Attacks')\n",
    "plt.ylabel('Model')\n",
    "plt.title('Adversarial Vulnerability of LMs')\n",
    "\n",
    "# Show the plot\n",
    "plt.show()\n"
   ]
  },
  {
   "cell_type": "markdown",
   "metadata": {},
   "source": [
    "### correlate adversarial vulnerability with k0 vulnerability"
   ]
  },
  {
   "cell_type": "code",
   "execution_count": 8,
   "metadata": {},
   "outputs": [
    {
     "name": "stdout",
     "output_type": "stream",
     "text": [
      "Spearman Rank Correlation: 0.5\n"
     ]
    }
   ],
   "source": [
    "from scipy.stats import spearmanr\n",
    "\n",
    "adv_rank = [1, 2, 3, 4, 5, 6, 7]\n",
    "k0_rank = [4, 2, 5, 1, 3, 7, 6]\n",
    "\n",
    "# Calculate the Spearman rank correlation coefficient\n",
    "correlation, p_value = spearmanr(adv_rank, k0_rank)\n",
    "\n",
    "print(\"Spearman Rank Correlation:\", correlation)"
   ]
  },
  {
   "cell_type": "code",
   "execution_count": null,
   "metadata": {},
   "outputs": [],
   "source": []
  }
 ],
 "metadata": {
  "kernelspec": {
   "display_name": "Python 3",
   "language": "python",
   "name": "python3"
  },
  "language_info": {
   "codemirror_mode": {
    "name": "ipython",
    "version": 3
   },
   "file_extension": ".py",
   "mimetype": "text/x-python",
   "name": "python",
   "nbconvert_exporter": "python",
   "pygments_lexer": "ipython3",
   "version": "3.8.10"
  }
 },
 "nbformat": 4,
 "nbformat_minor": 4
}
