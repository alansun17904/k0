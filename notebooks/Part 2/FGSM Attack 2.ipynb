{
 "cells": [
  {
   "cell_type": "code",
   "execution_count": 1,
   "id": "3248179b-8140-4a11-8e46-998f7af7df7c",
   "metadata": {},
   "outputs": [],
   "source": [
    "import torch\n",
    "import torch.nn as nn\n",
    "import torch.nn.functional as F\n",
    "import torch.optim as optim\n",
    "from torchvision import datasets, transforms\n",
    "import numpy as np\n",
    "import matplotlib.pyplot as plt"
   ]
  },
  {
   "cell_type": "code",
   "execution_count": 2,
   "id": "5311ee77-07a1-46b1-b4e1-951b1ded6bea",
   "metadata": {},
   "outputs": [
    {
     "data": {
      "text/plain": [
       "<torch._C.Generator at 0x7f50b010fef0>"
      ]
     },
     "execution_count": 2,
     "metadata": {},
     "output_type": "execute_result"
    }
   ],
   "source": [
    "epsilons = [0, .05, .1, .15, .2, .25, .3]\n",
    "pretrained_models = [\"no_reg.pth\", \"kd_fconly_reg_e2.pth\", \"kd_fconly_reg_e3.pth\"]\n",
    "use_cuda=True\n",
    "# Set random seed for reproducibility\n",
    "torch.manual_seed(42)"
   ]
  },
  {
   "cell_type": "code",
   "execution_count": 3,
   "id": "25efc074-1af5-446c-a206-387331a6e9e0",
   "metadata": {},
   "outputs": [],
   "source": [
    "# import the necessary packages\n",
    "from torch.nn import Module\n",
    "from torch.nn import Conv2d\n",
    "from torch.nn import Linear\n",
    "from torch.nn import MaxPool2d\n",
    "from torch.nn import ReLU\n",
    "from torch.nn import LogSoftmax\n",
    "from torch import flatten\n",
    "\n",
    "class LeNet(Module):\n",
    "    def __init__(self, numChannels, classes):\n",
    "        super(LeNet, self).__init__()\n",
    "\n",
    "        # CONV => RELU => POOL\n",
    "        self.conv1 = Conv2d(in_channels=numChannels, out_channels=20, kernel_size=(5,5))\n",
    "        self.relu1 = ReLU()\n",
    "        self.maxpool1 = MaxPool2d(kernel_size=(2,2), stride=(2,2))\n",
    "\n",
    "        # second set of CONV layers\n",
    "        self.conv2 = Conv2d(in_channels=20, out_channels=50, kernel_size=(5,5))\n",
    "        self.relu2 = ReLU()\n",
    "        self.maxpool2 = MaxPool2d(kernel_size=(2,2), stride=(2,2))\n",
    "\n",
    "        # FC layer\n",
    "        self.fc1 = Linear(in_features=800, out_features=500)\n",
    "        self.relu3 = ReLU()\n",
    "\n",
    "        # softmax\n",
    "        self.fc2 = Linear(in_features=500, out_features=classes)\n",
    "        self.logSoftmax = LogSoftmax(dim=1)\n",
    "\n",
    "    def forward(self, x):\n",
    "        hidden_states = []\n",
    "        \n",
    "        # pass the input through our first set of CONV => RELU =>\n",
    "        # POOL layers\n",
    "        x = self.conv1(x)\n",
    "        hidden_states.append(x.clone())\n",
    "        x = self.relu1(x)\n",
    "        x = self.maxpool1(x)\n",
    "        \n",
    "        # pass the output from the previous layer through the second\n",
    "        # set of CONV => RELU => POOL layers\n",
    "        x = self.conv2(x)\n",
    "        hidden_states.append(x.clone())\n",
    "        x = self.relu2(x)\n",
    "        x = self.maxpool2(x)\n",
    "        \n",
    "        # flatten the output from the previous layer and pass it\n",
    "        # through our only set of FC => RELU layers\n",
    "        x = flatten(x, 1)\n",
    "        x = self.fc1(x)\n",
    "        hidden_states.append(x.clone())\n",
    "        x = self.relu3(x)\n",
    "        \n",
    "        # pass the output to our softmax classifier to get our output\n",
    "        # predictions\n",
    "        x = self.fc2(x)\n",
    "        output = self.logSoftmax(x)\n",
    "        \n",
    "        # return the output predictions\n",
    "        return output, hidden_states\n",
    "    "
   ]
  },
  {
   "cell_type": "code",
   "execution_count": 8,
   "id": "6716a643-6b02-4abd-8592-54584e20df5a",
   "metadata": {},
   "outputs": [
    {
     "name": "stdout",
     "output_type": "stream",
     "text": [
      "CUDA Available:  True\n"
     ]
    }
   ],
   "source": [
    "test_loader = torch.utils.data.DataLoader(\n",
    "    datasets.MNIST(root='evaldata', train=False, download=True, transform=transforms.Compose([\n",
    "            transforms.ToTensor(),\n",
    "            transforms.Normalize((0.1307,), (0.3081,)),\n",
    "            ])),\n",
    "        batch_size=1, shuffle=True)\n",
    "\n",
    "# Define what device we are using\n",
    "print(\"CUDA Available: \",torch.cuda.is_available())\n",
    "device = torch.device(\"cuda\" if use_cuda and torch.cuda.is_available() else \"cpu\")\n",
    "\n",
    "# Initialize the network\n",
    "#model = LeNet(numChannels=1, classes=10).to(device)\n",
    "\n",
    "# Load the pretrained model\n",
    "#model = torch.load(pretrained_model, map_location=device)\n",
    "\n",
    "# Set the model in evaluation mode. In this case this is for the Dropout layers\n",
    "#model.eval()"
   ]
  },
  {
   "cell_type": "code",
   "execution_count": 9,
   "id": "c38852f2-0b36-461a-85fe-adac435ab2cc",
   "metadata": {},
   "outputs": [],
   "source": [
    "# FGSM attack code\n",
    "def fgsm_attack(image, epsilon, data_grad):\n",
    "    # Collect the element-wise sign of the data gradient\n",
    "    sign_data_grad = data_grad.sign()\n",
    "    # Create the perturbed image by adjusting each pixel of the input image\n",
    "    perturbed_image = image + epsilon*sign_data_grad\n",
    "    # Adding clipping to maintain [0,1] range\n",
    "    perturbed_image = torch.clamp(perturbed_image, 0, 1)\n",
    "    # Return the perturbed image\n",
    "    return perturbed_image\n",
    "\n",
    "# restores the tensors to their original scale\n",
    "def denorm(batch, mean=[0.1307], std=[0.3081]):\n",
    "    \"\"\"\n",
    "    Convert a batch of tensors to their original scale.\n",
    "\n",
    "    Args:\n",
    "        batch (torch.Tensor): Batch of normalized tensors.\n",
    "        mean (torch.Tensor or list): Mean used for normalization.\n",
    "        std (torch.Tensor or list): Standard deviation used for normalization.\n",
    "\n",
    "    Returns:\n",
    "        torch.Tensor: batch of tensors without normalization applied to them.\n",
    "    \"\"\"\n",
    "    if isinstance(mean, list):\n",
    "        mean = torch.tensor(mean).to(device)\n",
    "    if isinstance(std, list):\n",
    "        std = torch.tensor(std).to(device)\n",
    "\n",
    "    return batch * std.view(1, -1, 1, 1) + mean.view(1, -1, 1, 1)"
   ]
  },
  {
   "cell_type": "code",
   "execution_count": 10,
   "id": "d0be579f-80ff-4f04-94f3-0db6f64d00c4",
   "metadata": {},
   "outputs": [],
   "source": [
    "def test( model, device, test_loader, epsilon ):\n",
    "\n",
    "    # Accuracy counter\n",
    "    correct = 0\n",
    "    adv_examples = []\n",
    "\n",
    "    # Loop over all examples in test set\n",
    "    for data, target in test_loader:\n",
    "\n",
    "        # Send the data and label to the device\n",
    "        data, target = data.to(device), target.to(device)\n",
    "\n",
    "        # Set requires_grad attribute of tensor. Important for Attack\n",
    "        data.requires_grad = True\n",
    "\n",
    "        # Forward pass the data through the model\n",
    "        output, hs = model(data)\n",
    "        init_pred = output.max(1, keepdim=True)[1] # get the index of the max log-probability\n",
    "\n",
    "        # If the initial prediction is wrong, don't bother attacking, just move on\n",
    "        if init_pred.item() != target.item():\n",
    "            continue\n",
    "\n",
    "        # Calculate the loss\n",
    "        loss = F.nll_loss(output, target)\n",
    "\n",
    "        # Zero all existing gradients\n",
    "        model.zero_grad()\n",
    "\n",
    "        # Calculate gradients of model in backward pass\n",
    "        loss.backward()\n",
    "\n",
    "        # Collect ``datagrad``\n",
    "        data_grad = data.grad.data\n",
    "\n",
    "        # Restore the data to its original scale\n",
    "        data_denorm = denorm(data)\n",
    "\n",
    "        # Call FGSM Attack\n",
    "        perturbed_data = fgsm_attack(data_denorm, epsilon, data_grad)\n",
    "\n",
    "        # Reapply normalization\n",
    "        perturbed_data_normalized = transforms.Normalize((0.1307,), (0.3081,))(perturbed_data)\n",
    "\n",
    "        # Re-classify the perturbed image\n",
    "        output, hs = model(perturbed_data_normalized)\n",
    "\n",
    "        # Check for success\n",
    "        final_pred = output.max(1, keepdim=True)[1] # get the index of the max log-probability\n",
    "        if final_pred.item() == target.item():\n",
    "            correct += 1\n",
    "            # Special case for saving 0 epsilon examples\n",
    "            if epsilon == 0 and len(adv_examples) < 5:\n",
    "                adv_ex = perturbed_data.squeeze().detach().cpu().numpy()\n",
    "                adv_examples.append( (init_pred.item(), final_pred.item(), adv_ex) )\n",
    "        else:\n",
    "            # Save some adv examples for visualization later\n",
    "            if len(adv_examples) < 5:\n",
    "                adv_ex = perturbed_data.squeeze().detach().cpu().numpy()\n",
    "                adv_examples.append( (init_pred.item(), final_pred.item(), adv_ex) )\n",
    "\n",
    "    # Calculate final accuracy for this epsilon\n",
    "    final_acc = correct/float(len(test_loader))\n",
    "    print(f\"Epsilon: {epsilon}\\tTest Accuracy = {correct} / {len(test_loader)} = {final_acc}\")\n",
    "\n",
    "    # Return the accuracy and an adversarial example\n",
    "    return final_acc, adv_examples"
   ]
  },
  {
   "cell_type": "code",
   "execution_count": 11,
   "id": "41de23cc-a934-4abd-8837-23fca4811440",
   "metadata": {},
   "outputs": [],
   "source": [
    "def run(model):\n",
    "    global device\n",
    "\n",
    "    test_loader = torch.utils.data.DataLoader(\n",
    "    datasets.MNIST(root='evaldata', train=False, download=True, transform=transforms.Compose([\n",
    "            transforms.ToTensor(),\n",
    "            transforms.Normalize((0.1307,), (0.3081,)),\n",
    "            ])),\n",
    "        batch_size=1, shuffle=True)\n",
    "    \n",
    "    accuracies = []\n",
    "    examples = []\n",
    "    \n",
    "    # Run test for each epsilon\n",
    "    for eps in epsilons:\n",
    "        acc, ex = test(model, device, test_loader, eps)\n",
    "        accuracies.append(acc)\n",
    "        examples.append(ex)\n",
    "\n",
    "    return accuracies"
   ]
  },
  {
   "cell_type": "code",
   "execution_count": null,
   "id": "28817fe6-fff9-428b-b141-c85fd407eeff",
   "metadata": {},
   "outputs": [],
   "source": [
    "%matplotlib inline"
   ]
  },
  {
   "cell_type": "code",
   "execution_count": 5,
   "id": "642cd71b-5677-483e-b2f7-fbdbc1c33d21",
   "metadata": {},
   "outputs": [
    {
     "ename": "NameError",
     "evalue": "name 'accuracies' is not defined",
     "output_type": "error",
     "traceback": [
      "\u001b[0;31m---------------------------------------------------------------------------\u001b[0m",
      "\u001b[0;31mNameError\u001b[0m                                 Traceback (most recent call last)",
      "Cell \u001b[0;32mIn[5], line 2\u001b[0m\n\u001b[1;32m      1\u001b[0m plt\u001b[38;5;241m.\u001b[39mfigure(figsize\u001b[38;5;241m=\u001b[39m(\u001b[38;5;241m5\u001b[39m,\u001b[38;5;241m5\u001b[39m))\n\u001b[0;32m----> 2\u001b[0m plt\u001b[38;5;241m.\u001b[39mplot(epsilons, \u001b[43maccuracies\u001b[49m, \u001b[38;5;124m\"\u001b[39m\u001b[38;5;124m*-\u001b[39m\u001b[38;5;124m\"\u001b[39m)\n\u001b[1;32m      3\u001b[0m plt\u001b[38;5;241m.\u001b[39myticks(np\u001b[38;5;241m.\u001b[39marange(\u001b[38;5;241m0\u001b[39m, \u001b[38;5;241m1.1\u001b[39m, step\u001b[38;5;241m=\u001b[39m\u001b[38;5;241m0.1\u001b[39m))\n\u001b[1;32m      4\u001b[0m plt\u001b[38;5;241m.\u001b[39mxticks(np\u001b[38;5;241m.\u001b[39marange(\u001b[38;5;241m0\u001b[39m, \u001b[38;5;241m.35\u001b[39m, step\u001b[38;5;241m=\u001b[39m\u001b[38;5;241m0.05\u001b[39m))\n",
      "\u001b[0;31mNameError\u001b[0m: name 'accuracies' is not defined"
     ]
    },
    {
     "data": {
      "text/plain": [
       "<Figure size 500x500 with 0 Axes>"
      ]
     },
     "metadata": {},
     "output_type": "display_data"
    }
   ],
   "source": [
    "plt.figure(figsize=(5,5))\n",
    "plt.plot(epsilons, accuracies, \"*-\")\n",
    "plt.yticks(np.arange(0, 1.1, step=0.1))\n",
    "plt.xticks(np.arange(0, .35, step=0.05))\n",
    "plt.title(\"Accuracy vs Epsilon\")\n",
    "plt.xlabel(\"Epsilon\")\n",
    "plt.ylabel(\"Accuracy\")\n",
    "plt.savefig('kd_reg_e2_acc_vs_ep.pdf')\n",
    "plt.show()"
   ]
  },
  {
   "cell_type": "code",
   "execution_count": 81,
   "id": "93d15232-0101-4103-bce9-3c70ac484526",
   "metadata": {},
   "outputs": [],
   "source": [
    "accuracies_kd_e2 = accuracies"
   ]
  },
  {
   "cell_type": "code",
   "execution_count": 68,
   "id": "10e39c6b-4be0-4ab0-89ff-e5f772b2ac88",
   "metadata": {},
   "outputs": [],
   "source": [
    "accuracies_no = accuracies"
   ]
  },
  {
   "cell_type": "code",
   "execution_count": 58,
   "id": "59899a07-46d0-4a29-be47-6a0de7c16da2",
   "metadata": {},
   "outputs": [],
   "source": [
    "accuracies_kd = accuracies"
   ]
  },
  {
   "cell_type": "markdown",
   "id": "19be644f-d8c6-4b9a-9f61-14e96d2384a1",
   "metadata": {},
   "source": [
    "## Results"
   ]
  },
  {
   "cell_type": "markdown",
   "id": "169734b6-bdf1-4f86-b50f-c69538cb3066",
   "metadata": {},
   "source": [
    "With regularization:\n",
    "\n",
    "Epsilon: 0\tTest Accuracy = 9902 / 10000 = 0.9902\n",
    "Epsilon: 0.05\tTest Accuracy = 9547 / 10000 = 0.9547\n",
    "Epsilon: 0.1\tTest Accuracy = 8792 / 10000 = 0.8792\n",
    "Epsilon: 0.15\tTest Accuracy = 7383 / 10000 = 0.7383\n",
    "Epsilon: 0.2\tTest Accuracy = 5407 / 10000 = 0.5407\n",
    "Epsilon: 0.25\tTest Accuracy = 3580 / 10000 = 0.358\n",
    "Epsilon: 0.3\tTest Accuracy = 2324 / 10000 = 0.2324"
   ]
  },
  {
   "cell_type": "markdown",
   "id": "09c107e7-e7a6-45a9-99c4-ea572c92d04c",
   "metadata": {},
   "source": [
    "Without regularization:\n",
    "Epsilon: 0\tTest Accuracy = 9870 / 10000 = 0.987\n",
    "Epsilon: 0.05\tTest Accuracy = 9345 / 10000 = 0.9345\n",
    "Epsilon: 0.1\tTest Accuracy = 8067 / 10000 = 0.8067\n",
    "Epsilon: 0.15\tTest Accuracy = 6132 / 10000 = 0.6132\n",
    "Epsilon: 0.2\tTest Accuracy = 4299 / 10000 = 0.4299\n",
    "Epsilon: 0.25\tTest Accuracy = 2918 / 10000 = 0.2918\n",
    "Epsilon: 0.3\tTest Accuracy = 2055 / 10000 = 0.2055"
   ]
  },
  {
   "cell_type": "markdown",
   "id": "b5cd2f7c-9186-44ae-9395-a65b4c389adb",
   "metadata": {},
   "source": [
    "With regularization 1e-2:\n",
    "Epsilon: 0\tTest Accuracy = 9424 / 10000 = 0.9424\n",
    "Epsilon: 0.05\tTest Accuracy = 8624 / 10000 = 0.8624\n",
    "Epsilon: 0.1\tTest Accuracy = 7765 / 10000 = 0.7765\n",
    "Epsilon: 0.15\tTest Accuracy = 6624 / 10000 = 0.6624\n",
    "Epsilon: 0.2\tTest Accuracy = 5502 / 10000 = 0.5502\n",
    "Epsilon: 0.25\tTest Accuracy = 4459 / 10000 = 0.4459\n",
    "Epsilon: 0.3\tTest Accuracy = 3615 / 10000 = 0.3615"
   ]
  },
  {
   "cell_type": "code",
   "execution_count": 12,
   "id": "562cd2c4-b192-4f56-814e-1f6100164576",
   "metadata": {
    "scrolled": true
   },
   "outputs": [
    {
     "name": "stdout",
     "output_type": "stream",
     "text": [
      "Epsilon: 0\tTest Accuracy = 9870 / 10000 = 0.987\n",
      "Epsilon: 0.05\tTest Accuracy = 9345 / 10000 = 0.9345\n",
      "Epsilon: 0.1\tTest Accuracy = 8067 / 10000 = 0.8067\n",
      "Epsilon: 0.15\tTest Accuracy = 6197 / 10000 = 0.6197\n",
      "Epsilon: 0.2\tTest Accuracy = 4527 / 10000 = 0.4527\n",
      "Epsilon: 0.25\tTest Accuracy = 3347 / 10000 = 0.3347\n",
      "Epsilon: 0.3\tTest Accuracy = 2623 / 10000 = 0.2623\n",
      "Epsilon: 0\tTest Accuracy = 9914 / 10000 = 0.9914\n",
      "Epsilon: 0.05\tTest Accuracy = 9559 / 10000 = 0.9559\n",
      "Epsilon: 0.1\tTest Accuracy = 8795 / 10000 = 0.8795\n",
      "Epsilon: 0.15\tTest Accuracy = 7150 / 10000 = 0.715\n",
      "Epsilon: 0.2\tTest Accuracy = 5006 / 10000 = 0.5006\n",
      "Epsilon: 0.25\tTest Accuracy = 3295 / 10000 = 0.3295\n",
      "Epsilon: 0.3\tTest Accuracy = 2128 / 10000 = 0.2128\n",
      "Epsilon: 0\tTest Accuracy = 9880 / 10000 = 0.988\n",
      "Epsilon: 0.05\tTest Accuracy = 9559 / 10000 = 0.9559\n",
      "Epsilon: 0.1\tTest Accuracy = 8810 / 10000 = 0.881\n",
      "Epsilon: 0.15\tTest Accuracy = 7237 / 10000 = 0.7237\n",
      "Epsilon: 0.2\tTest Accuracy = 4983 / 10000 = 0.4983\n",
      "Epsilon: 0.25\tTest Accuracy = 3200 / 10000 = 0.32\n",
      "Epsilon: 0.3\tTest Accuracy = 2231 / 10000 = 0.2231\n"
     ]
    }
   ],
   "source": [
    "accuracies = []\n",
    "\n",
    "for p in pretrained_models:\n",
    "    # Load the pretrained model\n",
    "    model = torch.load(p, map_location=device)\n",
    "    \n",
    "    # Set the model in evaluation mode. In this case this is for the Dropout layers\n",
    "    model.eval()\n",
    "\n",
    "    accuracies.append(run(model))"
   ]
  },
  {
   "cell_type": "code",
   "execution_count": 14,
   "id": "bf313b42-e7f4-420a-b0ee-75f136fef1d2",
   "metadata": {},
   "outputs": [
    {
     "data": {
      "text/plain": [
       "['no_reg.pth', 'kd_fconly_reg_e2.pth', 'kd_fconly_reg_e3.pth']"
      ]
     },
     "execution_count": 14,
     "metadata": {},
     "output_type": "execute_result"
    }
   ],
   "source": [
    "pretrained_models"
   ]
  },
  {
   "cell_type": "code",
   "execution_count": 16,
   "id": "7a2cecf2-add8-4a0d-ab4d-b81ee767deb3",
   "metadata": {
    "scrolled": true
   },
   "outputs": [
    {
     "data": {
      "image/png": "[encoded data removed]",
      "text/plain": [
       "<Figure size 500x500 with 1 Axes>"
      ]
     },
     "metadata": {},
     "output_type": "display_data"
    }
   ],
   "source": [
    "plt.figure(figsize=(5,5))\n",
    "plt.plot(epsilons, accuracies[0], \"*-\", label='No Regularization')\n",
    "plt.plot(epsilons, accuracies[1], \"*-\", color='red', label='KD lam=1e-2')\n",
    "plt.plot(epsilons, accuracies[2], \"*-\", color='purple', label='KD lam=1e-3')\n",
    "plt.yticks(np.arange(0, 1.1, step=0.1))\n",
    "plt.xticks(np.arange(0, .35, step=0.05))\n",
    "plt.title(\"Accuracy vs Epsilon (FC Only)\")\n",
    "plt.xlabel(\"Epsilon\")\n",
    "plt.ylabel(\"Accuracy\")\n",
    "plt.legend()\n",
    "plt.savefig('fgsm_fconly_all_vs_ep.pdf')\n",
    "plt.show()"
   ]
  },
  {
   "cell_type": "code",
   "execution_count": 1,
   "id": "97efe887-81c5-4a67-a8b7-a7ed6bf0da05",
   "metadata": {
    "scrolled": true
   },
   "outputs": [
    {
     "name": "stdout",
     "output_type": "stream",
     "text": [
      "CUDA Available:  True\n"
     ]
    }
   ],
   "source": [
    "import torch\n",
    "\n",
    "print(\"CUDA Available: \",torch.cuda.is_available())"
   ]
  },
  {
   "cell_type": "code",
   "execution_count": 2,
   "id": "1683a620-045b-43be-b77c-d3da59fe1b54",
   "metadata": {},
   "outputs": [
    {
     "data": {
      "text/plain": [
       "'11.7'"
      ]
     },
     "execution_count": 2,
     "metadata": {},
     "output_type": "execute_result"
    }
   ],
   "source": [
    "torch.version.cuda"
   ]
  },
  {
   "cell_type": "code",
   "execution_count": 3,
   "id": "f8ab6587-b745-4efb-be1f-0e69f7ead7c1",
   "metadata": {},
   "outputs": [
    {
     "data": {
      "text/plain": [
       "'2.0.0+cu117'"
      ]
     },
     "execution_count": 3,
     "metadata": {},
     "output_type": "execute_result"
    }
   ],
   "source": [
    "torch.__version__"
   ]
  },
  {
   "cell_type": "code",
   "execution_count": 4,
   "id": "a8cd2790-2d96-4305-8ac9-8bbb71d2d698",
   "metadata": {},
   "outputs": [
    {
     "name": "stdout",
     "output_type": "stream",
     "text": [
      "/home/kenneth/anaconda3/envs/cv/bin/python\n"
     ]
    }
   ],
   "source": [
    "!which python"
   ]
  },
  {
   "cell_type": "code",
   "execution_count": null,
   "id": "6b18b12e-8b23-405d-a446-6943729f4b08",
   "metadata": {},
   "outputs": [],
   "source": []
  }
 ],
 "metadata": {
  "kernelspec": {
   "display_name": "Python [conda env:cv-py39]",
   "language": "python",
   "name": "conda-env-cv-py39-py"
  },
  "language_info": {
   "codemirror_mode": {
    "name": "ipython",
    "version": 3
   },
   "file_extension": ".py",
   "mimetype": "text/x-python",
   "name": "python",
   "nbconvert_exporter": "python",
   "pygments_lexer": "ipython3",
   "version": "3.9.18"
  }
 },
 "nbformat": 4,
 "nbformat_minor": 5
}
