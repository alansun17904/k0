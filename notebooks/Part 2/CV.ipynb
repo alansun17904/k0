{
 "cells": [
  {
   "cell_type": "markdown",
   "id": "43ae0b00-0c3f-4b7e-9741-792a5fcddd83",
   "metadata": {},
   "source": [
    "Taken from:\n",
    "\n",
    "https://pyimagesearch.com/2021/07/19/pytorch-training-your-first-convolutional-neural-network-cnn/"
   ]
  },
  {
   "cell_type": "code",
   "execution_count": 16,
   "id": "607c4cbf-1e8c-4aa5-8939-e390d3d8411f",
   "metadata": {},
   "outputs": [],
   "source": [
    "# import the necessary packages\n",
    "from torch.nn import Module\n",
    "from torch.nn import Conv2d\n",
    "from torch.nn import Linear\n",
    "from torch.nn import MaxPool2d\n",
    "from torch.nn import ReLU\n",
    "from torch.nn import LogSoftmax\n",
    "from torch import flatten\n",
    "\n",
    "class LeNet(Module):\n",
    "    def __init__(self, numChannels, classes):\n",
    "        super(LeNet, self).__init__()\n",
    "\n",
    "        # CONV => RELU => POOL\n",
    "        self.conv1 = Conv2d(in_channels=numChannels, out_channels=20, kernel_size=(5,5))\n",
    "        self.relu1 = ReLU()\n",
    "        self.maxpool1 = MaxPool2d(kernel_size=(2,2), stride=(2,2))\n",
    "\n",
    "        # second set of CONV layers\n",
    "        self.conv2 = Conv2d(in_channels=20, out_channels=50, kernel_size=(5,5))\n",
    "        self.relu2 = ReLU()\n",
    "        self.maxpool2 = MaxPool2d(kernel_size=(2,2), stride=(2,2))\n",
    "\n",
    "        # FC layer\n",
    "        self.fc1 = Linear(in_features=800, out_features=500)\n",
    "        self.relu3 = ReLU()\n",
    "\n",
    "        # softmax\n",
    "        self.fc2 = Linear(in_features=500, out_features=classes)\n",
    "        self.logSoftmax = LogSoftmax(dim=1)\n",
    "\n",
    "    def forward(self, x):\n",
    "        hidden_states = []\n",
    "        \n",
    "        # pass the input through our first set of CONV => RELU =>\n",
    "        # POOL layers\n",
    "        x = self.conv1(x)\n",
    "        #hidden_states.append(x.clone())\n",
    "        x = self.relu1(x)\n",
    "        x = self.maxpool1(x)\n",
    "        \n",
    "        # pass the output from the previous layer through the second\n",
    "        # set of CONV => RELU => POOL layers\n",
    "        x = self.conv2(x)\n",
    "        #hidden_states.append(x.clone())\n",
    "        x = self.relu2(x)\n",
    "        x = self.maxpool2(x)\n",
    "        \n",
    "        # flatten the output from the previous layer and pass it\n",
    "        # through our only set of FC => RELU layers\n",
    "        x = flatten(x, 1)\n",
    "        x = self.fc1(x)\n",
    "        hidden_states.append(x.clone())\n",
    "        x = self.relu3(x)\n",
    "        \n",
    "        # pass the output to our softmax classifier to get our output\n",
    "        # predictions\n",
    "        x = self.fc2(x)\n",
    "        output = self.logSoftmax(x)\n",
    "        \n",
    "        # return the output predictions\n",
    "        return output, hidden_states\n",
    "    "
   ]
  },
  {
   "cell_type": "code",
   "execution_count": 17,
   "id": "02c2a0b7-1e11-43ac-9e5f-c4772963d200",
   "metadata": {},
   "outputs": [],
   "source": [
    "# set the matplotlib backend so figures can be saved in the background\n",
    "import matplotlib\n",
    "matplotlib.use(\"Agg\")\n",
    "# import the necessary packages\n",
    "from sklearn.metrics import classification_report\n",
    "from torch.utils.data import random_split\n",
    "from torch.utils.data import DataLoader\n",
    "from torchvision.transforms import ToTensor\n",
    "from torchvision.datasets import MNIST\n",
    "from torch.optim import AdamW\n",
    "from torch import nn\n",
    "import matplotlib.pyplot as plt\n",
    "import numpy as np\n",
    "import argparse\n",
    "import torch\n",
    "import time"
   ]
  },
  {
   "cell_type": "code",
   "execution_count": 18,
   "id": "8637f4b9-c9d7-4c5f-b10d-4a1beedbc993",
   "metadata": {},
   "outputs": [
    {
     "name": "stdout",
     "output_type": "stream",
     "text": [
      "\n",
      "     active environment : cv-py39\n",
      "    active env location : /home/kenneth/anaconda3/envs/cv-py39\n",
      "            shell level : 2\n",
      "       user config file : /home/kenneth/.condarc\n",
      " populated config files : /home/kenneth/.condarc\n",
      "          conda version : 24.4.0\n",
      "    conda-build version : 3.28.2\n",
      "         python version : 3.11.5.final.0\n",
      "                 solver : libmamba (default)\n",
      "       virtual packages : __archspec=1=zen2\n",
      "                          __conda=24.4.0=0\n",
      "                          __cuda=11.2=0\n",
      "                          __glibc=2.31=0\n",
      "                          __linux=5.8.0=0\n",
      "                          __unix=0=0\n",
      "       base environment : /home/kenneth/anaconda3  (writable)\n",
      "      conda av data dir : /home/kenneth/anaconda3/etc/conda\n",
      "  conda av metadata url : None\n",
      "           channel URLs : https://repo.anaconda.com/pkgs/main/linux-64\n",
      "                          https://repo.anaconda.com/pkgs/main/noarch\n",
      "                          https://repo.anaconda.com/pkgs/r/linux-64\n",
      "                          https://repo.anaconda.com/pkgs/r/noarch\n",
      "          package cache : /home/kenneth/anaconda3/pkgs\n",
      "                          /home/kenneth/.conda/pkgs\n",
      "       envs directories : /home/kenneth/anaconda3/envs\n",
      "                          /home/kenneth/.conda/envs\n",
      "               platform : linux-64\n",
      "             user-agent : conda/24.4.0 requests/2.31.0 CPython/3.11.5 Linux/5.8.0-50-generic ubuntu/20.04.6 glibc/2.31 solver/libmamba conda-libmamba-solver/23.12.0 libmambapy/1.5.3 aau/0.4.2 c/0GO0O4RrkIuYOgajtfI8NQ s/3mU7xgft-2YXTf_rNdkfew e/_VLEQ7j6CssZmAMUT_dc7w\n",
      "                UID:GID : 1013:1015\n",
      "             netrc file : None\n",
      "           offline mode : False\n",
      "\n",
      "\n"
     ]
    }
   ],
   "source": [
    "!conda info"
   ]
  },
  {
   "cell_type": "code",
   "execution_count": 20,
   "id": "c59a7b8a-8043-46f9-8af1-4e039704fabe",
   "metadata": {},
   "outputs": [],
   "source": [
    "# define training hyperparameters\n",
    "INIT_LR = 1e-3\n",
    "BATCH_SIZE = 64\n",
    "EPOCHS = 10\n",
    "# define the train and val splits\n",
    "TRAIN_SPLIT = 0.75\n",
    "VAL_SPLIT = 1 - TRAIN_SPLIT\n",
    "# set the device we will be using to train the model\n",
    "device = torch.device(\"cuda\" if torch.cuda.is_available() else \"cpu\")"
   ]
  },
  {
   "cell_type": "code",
   "execution_count": 21,
   "id": "d6876f88-f5a0-446a-a5a2-cbd0c3776173",
   "metadata": {
    "scrolled": true
   },
   "outputs": [
    {
     "name": "stdout",
     "output_type": "stream",
     "text": [
      "[INFO] loading the MNIST dataset...\n",
      "[INFO] generating the train/validation split...\n"
     ]
    }
   ],
   "source": [
    "# load the MNIST dataset\n",
    "print(\"[INFO] loading the MNIST dataset...\")\n",
    "trainData = MNIST(root=\"data\", train=True, download=True,\n",
    "    transform=ToTensor())\n",
    "testData = MNIST(root=\"data\", train=False, download=True,\n",
    "    transform=ToTensor())\n",
    "# calculate the train/validation split\n",
    "print(\"[INFO] generating the train/validation split...\")\n",
    "numTrainSamples = int(len(trainData) * TRAIN_SPLIT)\n",
    "numValSamples = int(len(trainData) * VAL_SPLIT)\n",
    "(trainData, valData) = random_split(trainData,\n",
    "    [numTrainSamples, numValSamples],\n",
    "    generator=torch.Generator().manual_seed(42))"
   ]
  },
  {
   "cell_type": "code",
   "execution_count": 22,
   "id": "c4805b47-8709-4da4-8250-de735e2c28c6",
   "metadata": {},
   "outputs": [],
   "source": [
    "# initialize the train, validation, and test data loaders\n",
    "trainDataLoader = DataLoader(trainData, shuffle=True,\n",
    "    batch_size=BATCH_SIZE)\n",
    "valDataLoader = DataLoader(valData, batch_size=BATCH_SIZE)\n",
    "testDataLoader = DataLoader(testData, batch_size=BATCH_SIZE)\n",
    "# calculate steps per epoch for training and validation set\n",
    "trainSteps = len(trainDataLoader.dataset) // BATCH_SIZE\n",
    "valSteps = len(valDataLoader.dataset) // BATCH_SIZE"
   ]
  },
  {
   "cell_type": "code",
   "execution_count": 23,
   "id": "514afdbd-a710-4615-a4ac-b69b4b5aa6e9",
   "metadata": {},
   "outputs": [],
   "source": [
    "# Create a tensor with shape (3, 4, 5)\n",
    "tensor = torch.randn(3, 4, 5)\n",
    "\n",
    "# Flatten the tensor using flatten\n",
    "flattened_tensor = tensor.flatten(start_dim=1)"
   ]
  },
  {
   "cell_type": "code",
   "execution_count": 24,
   "id": "e8f4fe2b-2092-4598-87bb-15c026762aa1",
   "metadata": {},
   "outputs": [],
   "source": [
    "!export CUDA_VISIBLE_DEVICES=3"
   ]
  },
  {
   "cell_type": "code",
   "execution_count": 25,
   "id": "781160ef-7d0f-4b66-994a-88e4bf3a67a8",
   "metadata": {},
   "outputs": [],
   "source": [
    "# KD Loss\n",
    "is_kd = False\n",
    "\n",
    "lam = 1e-3\n",
    "stabilizer = 1e-9\n",
    "\n",
    "base_loss_fn = nn.NLLLoss()\n",
    "loss_non_reducing = nn.NLLLoss(reduction='none')\n",
    "\n",
    "def calc_knowledge_discontinuities(class_losses, hss):\n",
    "    global stabilizer\n",
    "    global lam\n",
    "\n",
    "    total_score = 0\n",
    "    \n",
    "    for layer_idx in range(len(hss)):\n",
    "        hs = hss[layer_idx]\n",
    "        batch_size = hs.shape[0]\n",
    "\n",
    "        hs = hs.flatten(start_dim=1)\n",
    "        dist = torch.cdist(hs, hs) + stabilizer\n",
    "\n",
    "        class_losses = class_losses.view(-1, 1)\n",
    "        loss_diff = torch.cdist(class_losses, class_losses, p=1)\n",
    "        \n",
    "        \"\"\"dist = torch.zeros(batch_size, batch_size)\n",
    "\n",
    "        for i in range(batch_size):\n",
    "            for j in range(batch_size):\n",
    "                dist[i][j] = torch.dist(hs[i], hs[j])\n",
    "        \n",
    "        dist += stabilizer\n",
    "\n",
    "        loss_diff = torch.zeros(batch_size, batch_size)\n",
    "\n",
    "        for i in range(batch_size):\n",
    "            for j in range(batch_size):\n",
    "                # should just be absolute value of difference\n",
    "                loss_diff[i][j] = torch.dist(class_losses[i], class_losses[j], p=1)\n",
    "        \n",
    "        #print('hs shape:', hs.shape)\n",
    "        #print('dist shape:', dist.shape)\n",
    "        #print('loss diff shape:', loss_diff.shape)\n",
    "\n",
    "        #print('final matrix:', (loss_diff / dist).shape, loss_diff / dist)\"\"\"\n",
    "\n",
    "        upper_tri_indices = torch.triu_indices(batch_size, batch_size, offset=1)\n",
    "\n",
    "        total_score += torch.sum(loss_diff[upper_tri_indices[0], upper_tri_indices[1]] / dist[upper_tri_indices[0], upper_tri_indices[1]])\n",
    "\n",
    "    return total_score\n",
    "\n",
    "def normal_loss(output, target):\n",
    "    global base_loss_fn\n",
    "    \n",
    "    out, hidden = output\n",
    "\n",
    "    return base_loss_fn(out, target)\n",
    "\n",
    "def kd_loss(output, target):\n",
    "    global stabilizer\n",
    "    global lam\n",
    "    global base_loss_fn\n",
    "\n",
    "    out, hidden = output\n",
    "\n",
    "    initial_loss = base_loss_fn(out, target)\n",
    "    \n",
    "    return initial_loss + lam * calc_knowledge_discontinuities(loss_non_reducing(out, target), hidden)"
   ]
  },
  {
   "cell_type": "code",
   "execution_count": 26,
   "id": "8f2ac00c-dd27-41f7-ae50-83990122b23d",
   "metadata": {},
   "outputs": [
    {
     "name": "stdout",
     "output_type": "stream",
     "text": [
      "[INFO] initializing the LeNet model...\n",
      "[INFO] training the network...\n"
     ]
    }
   ],
   "source": [
    "# initialize the LeNet model\n",
    "print(\"[INFO] initializing the LeNet model...\")\n",
    "model = LeNet(\n",
    "    numChannels=1,\n",
    "    classes=len(trainData.dataset.classes)).to(device)\n",
    "# initialize our optimizer and loss function\n",
    "opt = AdamW(model.parameters(), lr=INIT_LR)\n",
    "lossFn = nn.NLLLoss()\n",
    "\n",
    "if is_kd:\n",
    "    lossFn = kd_loss\n",
    "else:\n",
    "    lossFn = normal_loss\n",
    "\n",
    "# initialize a dictionary to store training history\n",
    "H = {\n",
    "    \"train_loss\": [],\n",
    "    \"train_acc\": [],\n",
    "    \"val_loss\": [],\n",
    "    \"val_acc\": []\n",
    "}\n",
    "# measure how long training is going to take\n",
    "print(\"[INFO] training the network...\")\n",
    "startTime = time.time()"
   ]
  },
  {
   "cell_type": "markdown",
   "id": "facce72f-5d9d-4ffa-9aec-6a3fbde80a79",
   "metadata": {},
   "source": [
    "### Train model"
   ]
  },
  {
   "cell_type": "code",
   "execution_count": 27,
   "id": "3a9fac2f-e1c0-436f-85be-2f1b1cb7b3b2",
   "metadata": {},
   "outputs": [
    {
     "name": "stdout",
     "output_type": "stream",
     "text": [
      "[INFO] EPOCH: 1/10\n",
      "Train loss: 0.181119, Train accuracy: 0.9452\n",
      "Val loss: 0.061007, Val accuracy: 0.9821\n",
      "\n",
      "[INFO] EPOCH: 2/10\n",
      "Train loss: 0.054079, Train accuracy: 0.9828\n",
      "Val loss: 0.046786, Val accuracy: 0.9855\n",
      "\n",
      "[INFO] EPOCH: 3/10\n",
      "Train loss: 0.035444, Train accuracy: 0.9892\n",
      "Val loss: 0.042500, Val accuracy: 0.9871\n",
      "\n",
      "[INFO] EPOCH: 4/10\n",
      "Train loss: 0.026009, Train accuracy: 0.9912\n",
      "Val loss: 0.039098, Val accuracy: 0.9888\n",
      "\n",
      "[INFO] EPOCH: 5/10\n",
      "Train loss: 0.020102, Train accuracy: 0.9935\n",
      "Val loss: 0.037184, Val accuracy: 0.9903\n",
      "\n",
      "[INFO] EPOCH: 6/10\n",
      "Train loss: 0.015976, Train accuracy: 0.9946\n",
      "Val loss: 0.048381, Val accuracy: 0.9880\n",
      "\n",
      "[INFO] EPOCH: 7/10\n",
      "Train loss: 0.012865, Train accuracy: 0.9960\n",
      "Val loss: 0.035916, Val accuracy: 0.9901\n",
      "\n",
      "[INFO] EPOCH: 8/10\n",
      "Train loss: 0.011305, Train accuracy: 0.9963\n",
      "Val loss: 0.041740, Val accuracy: 0.9901\n",
      "\n",
      "[INFO] EPOCH: 9/10\n",
      "Train loss: 0.009487, Train accuracy: 0.9971\n",
      "Val loss: 0.042666, Val accuracy: 0.9891\n",
      "\n",
      "[INFO] EPOCH: 10/10\n",
      "Train loss: 0.007565, Train accuracy: 0.9974\n",
      "Val loss: 0.058948, Val accuracy: 0.9857\n",
      "\n"
     ]
    }
   ],
   "source": [
    "# loop over our epochs\n",
    "for e in range(0, EPOCHS):\n",
    "    # set the model in training mode\n",
    "    model.train()\n",
    "    # initialize the total training and validation loss\n",
    "    totalTrainLoss = 0\n",
    "    totalValLoss = 0\n",
    "    # initialize the number of correct predictions in the training\n",
    "    # and validation step\n",
    "    trainCorrect = 0\n",
    "    valCorrect = 0\n",
    "    # loop over the training set\n",
    "    for (x, y) in trainDataLoader:\n",
    "        # send the input to the device\n",
    "        (x, y) = (x.to(device), y.to(device))\n",
    "        \n",
    "        # perform a forward pass and calculate the training loss\n",
    "        output = model(x)\n",
    "        pred, hs = output\n",
    "        \n",
    "        loss = lossFn(output, y)\n",
    "        # zero out the gradients, perform the backpropagation step,\n",
    "        # and update the weights\n",
    "        opt.zero_grad()\n",
    "        loss.backward()\n",
    "        opt.step()\n",
    "        # add the loss to the total training loss so far and\n",
    "        # calculate the number of correct predictions\n",
    "        totalTrainLoss += loss\n",
    "        trainCorrect += (pred.argmax(1) == y).type(\n",
    "            torch.float).sum().item()\n",
    "\n",
    "    # switch off autograd for evaluation\n",
    "    with torch.no_grad():\n",
    "        # set the model in evaluation mode\n",
    "        model.eval()\n",
    "        # loop over the validation set\n",
    "        for (x, y) in valDataLoader:\n",
    "            # send the input to the device\n",
    "            (x, y) = (x.to(device), y.to(device))\n",
    "            # make the predictions and calculate the validation loss\n",
    "            output = model(x)\n",
    "            pred, hs = output\n",
    "            totalValLoss += lossFn(output, y)\n",
    "            # calculate the number of correct predictions\n",
    "            valCorrect += (pred.argmax(1) == y).type(\n",
    "                torch.float).sum().item()\n",
    "    \n",
    "    # calculate the average training and validation loss\n",
    "    avgTrainLoss = totalTrainLoss / trainSteps\n",
    "    avgValLoss = totalValLoss / valSteps\n",
    "    # calculate the training and validation accuracy\n",
    "    trainCorrect = trainCorrect / len(trainDataLoader.dataset)\n",
    "    valCorrect = valCorrect / len(valDataLoader.dataset)\n",
    "    # update our training history\n",
    "    H[\"train_loss\"].append(avgTrainLoss.cpu().detach().numpy())\n",
    "    H[\"train_acc\"].append(trainCorrect)\n",
    "    H[\"val_loss\"].append(avgValLoss.cpu().detach().numpy())\n",
    "    H[\"val_acc\"].append(valCorrect)\n",
    "    # print the model training and validation information\n",
    "    print(\"[INFO] EPOCH: {}/{}\".format(e + 1, EPOCHS))\n",
    "    print(\"Train loss: {:.6f}, Train accuracy: {:.4f}\".format(\n",
    "        avgTrainLoss, trainCorrect))\n",
    "    print(\"Val loss: {:.6f}, Val accuracy: {:.4f}\\n\".format(\n",
    "        avgValLoss, valCorrect))"
   ]
  },
  {
   "cell_type": "code",
   "execution_count": 28,
   "id": "0e81b8d1-0550-4f62-bebf-3cef524c3db7",
   "metadata": {},
   "outputs": [
    {
     "name": "stdout",
     "output_type": "stream",
     "text": [
      "[INFO] total time taken to train the model: 47.56s\n",
      "[INFO] evaluating network...\n",
      "              precision    recall  f1-score   support\n",
      "\n",
      "    0 - zero       1.00      0.99      0.99       980\n",
      "     1 - one       0.99      0.99      0.99      1135\n",
      "     2 - two       0.99      1.00      0.99      1032\n",
      "   3 - three       0.99      0.99      0.99      1010\n",
      "    4 - four       1.00      0.96      0.98       982\n",
      "    5 - five       0.97      0.99      0.98       892\n",
      "     6 - six       0.99      0.99      0.99       958\n",
      "   7 - seven       1.00      0.97      0.98      1028\n",
      "   8 - eight       0.99      0.99      0.99       974\n",
      "    9 - nine       0.96      0.99      0.97      1009\n",
      "\n",
      "    accuracy                           0.99     10000\n",
      "   macro avg       0.99      0.99      0.99     10000\n",
      "weighted avg       0.99      0.99      0.99     10000\n",
      "\n"
     ]
    }
   ],
   "source": [
    "# finish measuring how long training took\n",
    "endTime = time.time()\n",
    "print(\"[INFO] total time taken to train the model: {:.2f}s\".format(\n",
    "    endTime - startTime))\n",
    "# we can now evaluate the network on the test set\n",
    "print(\"[INFO] evaluating network...\")\n",
    "# turn off autograd for testing evaluation\n",
    "with torch.no_grad():\n",
    "    # set the model in evaluation mode\n",
    "    model.eval()\n",
    "    \n",
    "    # initialize a list to store our predictions\n",
    "    preds = []\n",
    "    # loop over the test set\n",
    "    for (x, y) in testDataLoader:\n",
    "        # send the input to the device\n",
    "        x = x.to(device)\n",
    "        # make the predictions and add them to the list\n",
    "        output = model(x)\n",
    "        pred, hs = output\n",
    "        preds.extend(pred.argmax(axis=1).cpu().numpy())\n",
    "# generate a classification report\n",
    "print(classification_report(testData.targets.cpu().numpy(),\n",
    "    np.array(preds), target_names=testData.classes))"
   ]
  },
  {
   "cell_type": "code",
   "execution_count": null,
   "id": "feced720-162c-4ad6-a567-8f51889c0412",
   "metadata": {},
   "outputs": [],
   "source": []
  },
  {
   "cell_type": "code",
   "execution_count": 14,
   "id": "e8c335ac-41c3-494d-b2a9-dfbe296ebb93",
   "metadata": {},
   "outputs": [],
   "source": [
    "plot_path = 'kd_fconly_reg_e3.png'\n",
    "model_path = 'kd_fconly_reg_e3.pth'"
   ]
  },
  {
   "cell_type": "code",
   "execution_count": 15,
   "id": "0467e4e5-15b3-412a-917b-bd68d01c033e",
   "metadata": {},
   "outputs": [],
   "source": [
    "# plot the training loss and accuracy\n",
    "plt.style.use(\"ggplot\")\n",
    "plt.figure()\n",
    "plt.plot(H[\"train_loss\"], label=\"train_loss\")\n",
    "plt.plot(H[\"val_loss\"], label=\"val_loss\")\n",
    "plt.plot(H[\"train_acc\"], label=\"train_acc\")\n",
    "plt.plot(H[\"val_acc\"], label=\"val_acc\")\n",
    "plt.title(\"Training Loss and Accuracy on Dataset\")\n",
    "plt.xlabel(\"Epoch #\")\n",
    "plt.ylabel(\"Loss/Accuracy\")\n",
    "plt.legend(loc=\"lower left\")\n",
    "plt.savefig(plot_path)\n",
    "# serialize the model to disk\n",
    "torch.save(model, model_path)\n",
    "plt.show()"
   ]
  },
  {
   "cell_type": "code",
   "execution_count": null,
   "id": "55416ae6-3304-475f-b91f-5d2d58f2ef16",
   "metadata": {},
   "outputs": [],
   "source": []
  },
  {
   "cell_type": "code",
   "execution_count": 36,
   "id": "d4b1b731-2e64-4b12-8158-7140f45103c6",
   "metadata": {},
   "outputs": [
    {
     "data": {
      "text/plain": [
       "tensor([[0, 0, 1],\n",
       "        [1, 2, 2]])"
      ]
     },
     "execution_count": 36,
     "metadata": {},
     "output_type": "execute_result"
    }
   ],
   "source": [
    "n = 3\n",
    "\n",
    "upper_tri_indices = torch.triu_indices(n, n, offset=1)\n",
    "\n",
    "upper_tri_indices"
   ]
  },
  {
   "cell_type": "code",
   "execution_count": 32,
   "id": "2cc26d35-bc06-42c5-bbfd-c26b86d22891",
   "metadata": {},
   "outputs": [],
   "source": [
    "num = np.asarray([[1, 2, 3], [4, 5, 6], [7, 8, 9]])"
   ]
  },
  {
   "cell_type": "code",
   "execution_count": 33,
   "id": "05ef261c-ea03-42a8-b076-414106c03ed5",
   "metadata": {},
   "outputs": [],
   "source": [
    "denom = np.asarray([[1, 1, 1], [1, 1, 1], [1, 1, 1]])"
   ]
  },
  {
   "cell_type": "code",
   "execution_count": 35,
   "id": "6db37127-59aa-4fc6-9c2a-5ab84e3fcbb3",
   "metadata": {},
   "outputs": [
    {
     "data": {
      "text/plain": [
       "array([2., 3., 6.])"
      ]
     },
     "execution_count": 35,
     "metadata": {},
     "output_type": "execute_result"
    }
   ],
   "source": [
    "(num[upper_tri_indices[0], upper_tri_indices[1]] / denom[upper_tri_indices[0], upper_tri_indices[1]])"
   ]
  }
 ],
 "metadata": {
  "kernelspec": {
   "display_name": "Python [conda env:cv-py39]",
   "language": "python",
   "name": "conda-env-cv-py39-py"
  },
  "language_info": {
   "codemirror_mode": {
    "name": "ipython",
    "version": 3
   },
   "file_extension": ".py",
   "mimetype": "text/x-python",
   "name": "python",
   "nbconvert_exporter": "python",
   "pygments_lexer": "ipython3",
   "version": "3.9.18"
  }
 },
 "nbformat": 4,
 "nbformat_minor": 5
}
