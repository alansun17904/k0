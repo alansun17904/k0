{
 "cells": [
  {
   "cell_type": "code",
   "execution_count": 3,
   "id": "78d431f0-7aeb-4b0d-977c-fd23ef5c6364",
   "metadata": {},
   "outputs": [],
   "source": [
    "import pandas as pd\n",
    "import numpy as np"
   ]
  },
  {
   "cell_type": "code",
   "execution_count": 368,
   "id": "8e559fe3-76ed-46cc-84e9-948754d410ed",
   "metadata": {},
   "outputs": [
    {
     "name": "stdout",
     "output_type": "stream",
     "text": [
      "A new wrestling show paves way for the most feared wrestler ever imaginable, the giant Zeus. Network President Brell does everything in his power to draw WWF champion Rip into the squared circle to face off against Zeus for the championship of the 'Battle of the Tough Guys'. But Zeus is unlike any competitor Rip has ever faced.<br /><br />Normally I would give Hogan some leeway as a wrestler crossing over into a movie role, however this film didn't ask the Hulkster to make very much of a stretch, it simply asked Hogan to play himself, which he failed at [[miserably]]. 'Tiny' Lister made a good effort as the mighty Zeus, but even his work left the film [[lacking]] something, namely acting!<br /><br />Watch this movie, if you so desire, with a [[grain]] of salt and a sense of humor, otherwise you will probably have to turn it off a little over ten minutes in.\n",
      "^^^^^^^^\n"
     ]
    }
   ],
   "source": [
    "base_models = ['gpt2', 't5-base', 'bert-base-uncased']\n",
    "csv_files = []\n",
    "dfs = []\n",
    "\n",
    "for m in base_models:\n",
    "    csv_files.append(f'../data/adversarial-attacks/tf-{m}.csv')\n",
    "\n",
    "    # Read the CSV file into a pandas DataFrame\n",
    "    df1 = pd.read_csv(csv_files[-1])\n",
    "    dfs.append(df1)\n",
    "\n",
    "def was_success(df, i):\n",
    "    return df.iloc[i]['result_type'] == 'Successful'\n",
    "\n",
    "for i in range(10000):\n",
    "    if was_success(dfs[0], i) and was_success(dfs[2], i) and not was_success(dfs[1], i):\n",
    "        #assert(dfs[0].iloc[i]['original_text'] == dfs[1].iloc[i]['original_text'] and dfs[1].iloc[i]['original_text'] == dfs[2].iloc[i]['original_text'])\n",
    "        #print(dfs[0].iloc[i]['original_text'])\n",
    "        #print(dfs[1].iloc[i]['original_text'])\n",
    "        print(dfs[2].iloc[i]['original_text'])\n",
    "        print('^^^^^^^^')\n",
    "        break\n"
   ]
  },
  {
   "cell_type": "code",
   "execution_count": null,
   "id": "98b1301f-a999-4b66-bae0-d2da4a532256",
   "metadata": {},
   "outputs": [],
   "source": []
  },
  {
   "cell_type": "code",
   "execution_count": null,
   "id": "fa02e2bf-132e-4fe9-8d6a-c3b0cd75c8ae",
   "metadata": {},
   "outputs": [],
   "source": []
  },
  {
   "cell_type": "code",
   "execution_count": 63,
   "id": "3ed07319-b468-4585-b838-80ae31a04f2d",
   "metadata": {},
   "outputs": [
    {
     "name": "stderr",
     "output_type": "stream",
     "text": [
      "Some weights of BertForSequenceClassification were not initialized from the model checkpoint at bert-base-uncased and are newly initialized: ['classifier.bias', 'classifier.weight']\n",
      "You should probably TRAIN this model on a down-stream task to be able to use it for predictions and inference.\n"
     ]
    }
   ],
   "source": [
    "from transformers import AutoTokenizer, AutoModel, AutoModelForSequenceClassification \n",
    "\n",
    "# Define the model name (e.g., distilbert-base-uncased)\n",
    "model_name = \"bert-base-uncased\"\n",
    "\n",
    "# Load tokenizer and model\n",
    "tokenizer = AutoTokenizer.from_pretrained(model_name)\n",
    "model = AutoModelForSequenceClassification .from_pretrained(model_name)\n",
    "\n",
    "def run(text):\n",
    "    # Tokenize the text\n",
    "    encoded_input = tokenizer(text, return_tensors=\"pt\")\n",
    "    \n",
    "    # Get relative depth (between 0 and 1)\n",
    "    relative_depth = 1  # Adjust this value between 0 and 1\n",
    "    \n",
    "    # Calculate absolute layer index based on relative depth\n",
    "    num_layers = model.config.num_hidden_layers\n",
    "    absolute_layer_idx = int(relative_depth * (num_layers - 1))\n",
    "    \n",
    "    # Run model inference\n",
    "    outputs = model(**encoded_input, output_hidden_states=True)\n",
    "    \n",
    "    # Get hidden states\n",
    "    if 't5' in model_name:\n",
    "        hidden_states = outputs.encoder_hidden_states\n",
    "    else:\n",
    "        hidden_states = outputs.hidden_states\n",
    "    \n",
    "    # Access hidden representation at the specified layer\n",
    "    target_hidden_state = hidden_states[absolute_layer_idx]\n",
    "    \n",
    "    # Get the actual tensor containing the hidden representations\n",
    "    target_hidden_state = target_hidden_state.squeeze(0)  # Remove batch dimension\n",
    "\n",
    "    input_hidden_state = hidden_states[0].squeeze(0)\n",
    "    \n",
    "    # Print the shape of the hidden representation tensor\n",
    "    print(f\"Hidden representation shape at layer {absolute_layer_idx + 1}: {target_hidden_state.shape}\")\n",
    "\n",
    "    return target_hidden_state, input_hidden_state\n",
    "    \n",
    "    # You can further process the hidden representation tensor here (e.g., convert to numpy array)"
   ]
  },
  {
   "cell_type": "code",
   "execution_count": 451,
   "id": "c4d2dfd2-d683-469a-a2ce-0cea05e78e63",
   "metadata": {},
   "outputs": [
    {
     "name": "stderr",
     "output_type": "stream",
     "text": [
      "Some weights of BertForSequenceClassification were not initialized from the model checkpoint at bert-base-uncased and are newly initialized: ['classifier.bias', 'classifier.weight']\n",
      "You should probably TRAIN this model on a down-stream task to be able to use it for predictions and inference.\n"
     ]
    },
    {
     "name": "stdout",
     "output_type": "stream",
     "text": [
      "Hidden representation shape at layer 8: torch.Size([10, 768])\n"
     ]
    }
   ],
   "source": [
    "text = \"The book Paul and I read was horrible\"\n",
    "run()\n",
    "encodedinput1 = input_hidden_state\n",
    "hiddenstate1 = target_hidden_state"
   ]
  },
  {
   "cell_type": "code",
   "execution_count": 452,
   "id": "33273423-2cf4-44ad-94cb-5b996161166a",
   "metadata": {},
   "outputs": [
    {
     "name": "stderr",
     "output_type": "stream",
     "text": [
      "Some weights of BertForSequenceClassification were not initialized from the model checkpoint at bert-base-uncased and are newly initialized: ['classifier.bias', 'classifier.weight']\n",
      "You should probably TRAIN this model on a down-stream task to be able to use it for predictions and inference.\n"
     ]
    },
    {
     "name": "stdout",
     "output_type": "stream",
     "text": [
      "Hidden representation shape at layer 8: torch.Size([10, 768])\n"
     ]
    }
   ],
   "source": [
    "text = \"The book Paul and I read was great\"\n",
    "run()\n",
    "hiddenstate2 = target_hidden_state\n",
    "encodedinput2 = input_hidden_state"
   ]
  },
  {
   "cell_type": "code",
   "execution_count": 453,
   "id": "460b3a08-4f2a-4d0d-ac34-b2f376881438",
   "metadata": {},
   "outputs": [
    {
     "name": "stderr",
     "output_type": "stream",
     "text": [
      "Some weights of BertForSequenceClassification were not initialized from the model checkpoint at bert-base-uncased and are newly initialized: ['classifier.bias', 'classifier.weight']\n",
      "You should probably TRAIN this model on a down-stream task to be able to use it for predictions and inference.\n"
     ]
    },
    {
     "name": "stdout",
     "output_type": "stream",
     "text": [
      "Hidden representation shape at layer 8: torch.Size([10, 768])\n"
     ]
    }
   ],
   "source": [
    "text = \"The novel Paul and I read was awful\"\n",
    "run()\n",
    "hiddenstate3 = target_hidden_state\n",
    "encodedinput3 = input_hidden_state"
   ]
  },
  {
   "cell_type": "code",
   "execution_count": null,
   "id": "7f889361-8eb8-4254-bf88-0337786c151f",
   "metadata": {},
   "outputs": [],
   "source": []
  },
  {
   "cell_type": "code",
   "execution_count": 454,
   "id": "f24e7e7b-cd0d-46c0-a1f6-2002ed800cee",
   "metadata": {},
   "outputs": [],
   "source": [
    "hiddenstate1_orig = hiddenstate1\n",
    "hiddenstate2_orig = hiddenstate2\n",
    "hiddenstate3_orig = hiddenstate3"
   ]
  },
  {
   "cell_type": "code",
   "execution_count": 455,
   "id": "537a448a-17d2-45d3-9fc5-a3e30114f0f7",
   "metadata": {},
   "outputs": [],
   "source": [
    "hiddenstate1 = np.mean(hiddenstate1.detach().numpy(), axis=0)\n",
    "hiddenstate2 = np.mean(hiddenstate2.detach().numpy(), axis=0)\n",
    "hiddenstate3 = np.mean(hiddenstate3.detach().numpy(), axis=0)"
   ]
  },
  {
   "cell_type": "code",
   "execution_count": 456,
   "id": "a2487134-9ba0-47bf-b6c8-1b9e4361976b",
   "metadata": {},
   "outputs": [],
   "source": [
    "encodedinput3 = np.mean(encodedinput3.detach().numpy(), axis=0)\n",
    "encodedinput2 = np.mean(encodedinput2.detach().numpy(), axis=0)\n",
    "encodedinput1 = np.mean(encodedinput1.detach().numpy(), axis=0)"
   ]
  },
  {
   "cell_type": "code",
   "execution_count": 23,
   "id": "dc12c9bb-9c59-4bed-b913-3d37e4a747bb",
   "metadata": {},
   "outputs": [],
   "source": [
    "from numpy.linalg import norm"
   ]
  },
  {
   "cell_type": "code",
   "execution_count": 19,
   "id": "f0caff99-773c-457b-a7ee-82b91d15b436",
   "metadata": {},
   "outputs": [],
   "source": [
    "from sklearn.metrics.pairwise import cosine_similarity\n",
    "\n",
    "def cos_sim(x, y):\n",
    "    #return cosine_similarity(x, y)\n",
    "    dot_prod = np.dot(x, y)\n",
    "    return dot_prod / (norm(x) * norm(y))"
   ]
  },
  {
   "cell_type": "code",
   "execution_count": 459,
   "id": "60a01662-e4d6-4dcf-9e85-886f2ebf2c73",
   "metadata": {},
   "outputs": [
    {
     "data": {
      "text/plain": [
       "0.9595605"
      ]
     },
     "execution_count": 459,
     "metadata": {},
     "output_type": "execute_result"
    }
   ],
   "source": [
    "cos_sim(encodedinput1, encodedinput2)"
   ]
  },
  {
   "cell_type": "code",
   "execution_count": 460,
   "id": "17c0d4fc-3d58-4700-b250-ce4744fc41b1",
   "metadata": {},
   "outputs": [
    {
     "data": {
      "text/plain": [
       "0.9468869"
      ]
     },
     "execution_count": 460,
     "metadata": {},
     "output_type": "execute_result"
    }
   ],
   "source": [
    "cos_sim(encodedinput1, encodedinput3)"
   ]
  },
  {
   "cell_type": "code",
   "execution_count": null,
   "id": "6144a77b-1e43-4deb-a6bb-004d26ea5c94",
   "metadata": {},
   "outputs": [],
   "source": []
  },
  {
   "cell_type": "code",
   "execution_count": 461,
   "id": "a7d49c28-01a5-4374-a45d-1327c7810ff4",
   "metadata": {},
   "outputs": [
    {
     "data": {
      "text/plain": [
       "0.97664976"
      ]
     },
     "execution_count": 461,
     "metadata": {},
     "output_type": "execute_result"
    }
   ],
   "source": [
    "cos_sim(hiddenstate1, hiddenstate2)"
   ]
  },
  {
   "cell_type": "code",
   "execution_count": 462,
   "id": "24e763c1-3681-4c8f-8331-f53a5e0874ed",
   "metadata": {},
   "outputs": [
    {
     "data": {
      "text/plain": [
       "0.984921"
      ]
     },
     "execution_count": 462,
     "metadata": {},
     "output_type": "execute_result"
    }
   ],
   "source": [
    "cos_sim(hiddenstate1, hiddenstate3)"
   ]
  },
  {
   "cell_type": "code",
   "execution_count": null,
   "id": "d8f0e1f7-37aa-445b-924e-630053fbc7d5",
   "metadata": {},
   "outputs": [],
   "source": []
  },
  {
   "cell_type": "code",
   "execution_count": null,
   "id": "995e8b4d-c0ec-4de9-8348-b32346c3dd64",
   "metadata": {},
   "outputs": [],
   "source": []
  },
  {
   "cell_type": "code",
   "execution_count": null,
   "id": "ae1f7faf-846d-4772-86bd-f67a5ac0b052",
   "metadata": {},
   "outputs": [],
   "source": []
  },
  {
   "cell_type": "code",
   "execution_count": null,
   "id": "1eab9716-7fc7-4334-8616-c11faaa27040",
   "metadata": {},
   "outputs": [],
   "source": []
  },
  {
   "cell_type": "code",
   "execution_count": 53,
   "id": "41528f59-5492-48c2-bd1d-61bf60bdf868",
   "metadata": {},
   "outputs": [],
   "source": [
    "anger_list = [\n",
    "    'anger',\n",
    "    'angry'\n",
    "]\n",
    "\n",
    "strong_anger_list = [\n",
    "    'fury',\n",
    "    'wrath',\n",
    "    'outrage'\n",
    "]\n",
    "\n",
    "socially_acceptable_list = [\n",
    "    'frustrated',\n",
    "    'disappointed',\n",
    "    'upset',\n",
    "    'annoyed',\n",
    "    'irritated'\n",
    "]\n",
    "\n",
    "other_emotions_list = [\n",
    "    'happy',\n",
    "    'sad',\n",
    "    'afraid',\n",
    "    'inadequate',\n",
    "    'hurt'\n",
    "]\n",
    "\n",
    "violence_list = [\n",
    "    'bully',\n",
    "    'threaten',\n",
    "    'harm',\n",
    "    'destruction',\n",
    "    'brutality',\n",
    "    'cruelty'\n",
    "]"
   ]
  },
  {
   "cell_type": "code",
   "execution_count": 64,
   "id": "8cf38022-44c6-444c-8382-e5d74d0521f4",
   "metadata": {},
   "outputs": [],
   "source": [
    "def get_embeddings(word_list_list):\n",
    "    to_ret = []\n",
    "    \n",
    "    for word_list in word_list_list:\n",
    "        current = []\n",
    "        for w in word_list:\n",
    "            target_hidden_state, input_hidden_state = run(w)\n",
    "            encodedinput1 = input_hidden_state\n",
    "            hiddenstate1 = target_hidden_state\n",
    "            hiddenstate1 = np.mean(hiddenstate1.detach().numpy(), axis=0)\n",
    "            \n",
    "            current.append((w, hiddenstate1))\n",
    "        to_ret.append(current)\n",
    "    return to_ret"
   ]
  },
  {
   "cell_type": "code",
   "execution_count": 65,
   "id": "5d5755ce-d296-40fb-ad4d-dd060be4de62",
   "metadata": {},
   "outputs": [
    {
     "name": "stdout",
     "output_type": "stream",
     "text": [
      "Hidden representation shape at layer 12: torch.Size([3, 768])\n",
      "Hidden representation shape at layer 12: torch.Size([3, 768])\n",
      "Hidden representation shape at layer 12: torch.Size([3, 768])\n",
      "Hidden representation shape at layer 12: torch.Size([3, 768])\n",
      "Hidden representation shape at layer 12: torch.Size([3, 768])\n",
      "Hidden representation shape at layer 12: torch.Size([3, 768])\n",
      "Hidden representation shape at layer 12: torch.Size([3, 768])\n",
      "Hidden representation shape at layer 12: torch.Size([3, 768])\n",
      "Hidden representation shape at layer 12: torch.Size([3, 768])\n",
      "Hidden representation shape at layer 12: torch.Size([3, 768])\n",
      "Hidden representation shape at layer 12: torch.Size([3, 768])\n",
      "Hidden representation shape at layer 12: torch.Size([3, 768])\n",
      "Hidden representation shape at layer 12: torch.Size([3, 768])\n",
      "Hidden representation shape at layer 12: torch.Size([3, 768])\n",
      "Hidden representation shape at layer 12: torch.Size([3, 768])\n",
      "Hidden representation shape at layer 12: torch.Size([3, 768])\n",
      "Hidden representation shape at layer 12: torch.Size([3, 768])\n",
      "Hidden representation shape at layer 12: torch.Size([3, 768])\n",
      "Hidden representation shape at layer 12: torch.Size([3, 768])\n",
      "Hidden representation shape at layer 12: torch.Size([3, 768])\n",
      "Hidden representation shape at layer 12: torch.Size([3, 768])\n"
     ]
    }
   ],
   "source": [
    "anger, strong_anger, socially_acceptable, other_emotions, violence = get_embeddings([anger_list, strong_anger_list, socially_acceptable_list, other_emotions_list, violence_list])"
   ]
  },
  {
   "cell_type": "code",
   "execution_count": 66,
   "id": "4243b23f-8c9e-4b19-825c-9197bcb9932c",
   "metadata": {},
   "outputs": [],
   "source": [
    "embedding_lists = [anger, strong_anger, socially_acceptable, other_emotions, violence]"
   ]
  },
  {
   "cell_type": "code",
   "execution_count": 67,
   "id": "57cccbef-87e0-45ac-b329-de57a6e360cf",
   "metadata": {},
   "outputs": [],
   "source": [
    "def avg_word_dist(list1, list2):\n",
    "    \"\"\"\n",
    "    I think you have to average the vectors first unfortunately :'(\n",
    "    \n",
    "    cnt = 0\n",
    "    total_dist = \n",
    "    \n",
    "    for a in list1:\n",
    "        for b in list2:\n",
    "            cnt += 1\n",
    "            total_dist += \n",
    "    \"\"\"\n",
    "\n",
    "    vec1 = np.sum(np.array(list1), axis=0)\n",
    "    vec2 = np.sum(np.array(list2), axis=0)\n",
    "\n",
    "    return cos_sim(vec1, vec2)"
   ]
  },
  {
   "cell_type": "code",
   "execution_count": 68,
   "id": "aa785e19-31b4-4d30-b8e5-7c8b49993b9e",
   "metadata": {},
   "outputs": [],
   "source": [
    "def process(L):\n",
    "    newL = []\n",
    "    for (a, b) in L:\n",
    "        newL.append(b)\n",
    "    return newL"
   ]
  },
  {
   "cell_type": "code",
   "execution_count": 69,
   "id": "6c9e9ba9-c154-4db5-99ea-37a441c85ad0",
   "metadata": {},
   "outputs": [],
   "source": [
    "n = 5\n",
    "matrix = [[-5 for i in range(n)] for i in range(n)]\n",
    "\n",
    "for i in range(n):\n",
    "    for j in range(i, n):\n",
    "        matrix[i][j] = matrix[j][i] = avg_word_dist(process(embedding_lists[i]), process(embedding_lists[j]))"
   ]
  },
  {
   "cell_type": "code",
   "execution_count": 70,
   "id": "b2d39d50-47eb-4ff7-98df-48230af83449",
   "metadata": {},
   "outputs": [
    {
     "name": "stdout",
     "output_type": "stream",
     "text": [
      "[-0.46766603  0.22718944 -0.46782348 -0.17147277 -0.18608527]\n",
      "[-0.50101864  0.32310155 -0.5099326   0.01260257 -0.38356152]\n",
      "[-0.31426224  0.01640645 -0.21132796 -0.27653217 -0.11179075]\n",
      "[-0.47098503  0.03896577  0.00118029 -0.02375147 -0.05365406]\n",
      "[-0.33295277  0.04669252 -0.48365852 -0.30317208 -0.1812845 ]\n"
     ]
    }
   ],
   "source": [
    "for l in embedding_lists:\n",
    "    print(l[0][1][:5])"
   ]
  },
  {
   "cell_type": "code",
   "execution_count": 71,
   "id": "56c5d275-70a2-4aaa-a867-9de9b0bea770",
   "metadata": {},
   "outputs": [
    {
     "data": {
      "text/plain": [
       "[[0.99999994, 0.90397793, 0.8881038, 0.8647869, 0.87336075],\n",
       " [0.90397793, 0.99999994, 0.90104824, 0.8985372, 0.92639714],\n",
       " [0.8881038, 0.90104824, 1.0000001, 0.9500612, 0.9058974],\n",
       " [0.8647869, 0.8985372, 0.9500612, 1.0, 0.9297176],\n",
       " [0.87336075, 0.92639714, 0.9058974, 0.9297176, 1.0000001]]"
      ]
     },
     "execution_count": 71,
     "metadata": {},
     "output_type": "execute_result"
    }
   ],
   "source": [
    "matrix"
   ]
  },
  {
   "cell_type": "code",
   "execution_count": 78,
   "id": "f841264d-11fe-4dad-b77c-e108c731182b",
   "metadata": {},
   "outputs": [
    {
     "data": {
      "image/png": "[encoded data removed]",
      "text/plain": [
       "<Figure size 640x480 with 2 Axes>"
      ]
     },
     "metadata": {},
     "output_type": "display_data"
    }
   ],
   "source": [
    "import seaborn as sns\n",
    "import matplotlib.pyplot as plt\n",
    "\n",
    "def distance_matrix_heatmap(distance_matrix, labels):\n",
    "    \"\"\"\n",
    "    This function generates a heatmap visualization of a distance matrix with labels.\n",
    "    \n",
    "    Args:\n",
    "      distance_matrix: A 2D numpy array representing the distance matrix.\n",
    "      labels: A list of labels for the rows and columns of the distance matrix.\n",
    "    \"\"\"\n",
    "    sns.heatmap(distance_matrix, annot=True, fmt=\".2f\", cmap=\"coolwarm\", square=True, cbar=True, \n",
    "              xticklabels=labels, yticklabels=labels)\n",
    "    plt.xlabel(\"Samples\")\n",
    "    plt.ylabel(\"Samples\")\n",
    "    plt.title(\"Distance Matrix Heatmap\")\n",
    "    plt.tight_layout()\n",
    "    plt.savefig(\"dist_matrix.pdf\")\n",
    "    plt.show()\n",
    "\n",
    "# Example usage (assuming you have a distance matrix and labels)\n",
    "labels = [\"anger\", \"strong_anger\", \"socially_acceptable\", \"other_emotions\", \"violence\"]\n",
    "\n",
    "distance_matrix_heatmap(matrix, labels)\n"
   ]
  },
  {
   "cell_type": "code",
   "execution_count": null,
   "id": "116b552f-c3d7-4a03-9518-a9a92ca4dd09",
   "metadata": {},
   "outputs": [],
   "source": []
  }
 ],
 "metadata": {
  "kernelspec": {
   "display_name": "Python 3 (ipykernel)",
   "language": "python",
   "name": "python3"
  },
  "language_info": {
   "codemirror_mode": {
    "name": "ipython",
    "version": 3
   },
   "file_extension": ".py",
   "mimetype": "text/x-python",
   "name": "python",
   "nbconvert_exporter": "python",
   "pygments_lexer": "ipython3",
   "version": "3.11.5"
  }
 },
 "nbformat": 4,
 "nbformat_minor": 5
}
