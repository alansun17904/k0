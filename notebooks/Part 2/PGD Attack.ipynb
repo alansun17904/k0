{
 "cells": [
  {
   "cell_type": "code",
   "execution_count": 21,
   "id": "b270c8aa-5149-4ba5-a96c-d99449ec6553",
   "metadata": {},
   "outputs": [],
   "source": [
    "import torch\n",
    "import torch.nn as nn\n",
    "import torch.nn.functional as F\n",
    "import torch.optim as optim\n",
    "from torchvision import datasets, transforms\n",
    "import numpy as np\n",
    "import matplotlib.pyplot as plt"
   ]
  },
  {
   "cell_type": "code",
   "execution_count": 22,
   "id": "dc89f229-e42b-46e4-9bd2-9153ed88d27e",
   "metadata": {},
   "outputs": [],
   "source": [
    "# import the necessary packages\n",
    "from torch.nn import Module\n",
    "from torch.nn import Conv2d\n",
    "from torch.nn import Linear\n",
    "from torch.nn import MaxPool2d\n",
    "from torch.nn import ReLU\n",
    "from torch.nn import LogSoftmax\n",
    "from torch import flatten\n",
    "\n",
    "class LeNet(Module):\n",
    "    def __init__(self, numChannels, classes):\n",
    "        super(LeNet, self).__init__()\n",
    "\n",
    "        # CONV => RELU => POOL\n",
    "        self.conv1 = Conv2d(in_channels=numChannels, out_channels=20, kernel_size=(5,5))\n",
    "        self.relu1 = ReLU()\n",
    "        self.maxpool1 = MaxPool2d(kernel_size=(2,2), stride=(2,2))\n",
    "\n",
    "        # second set of CONV layers\n",
    "        self.conv2 = Conv2d(in_channels=20, out_channels=50, kernel_size=(5,5))\n",
    "        self.relu2 = ReLU()\n",
    "        self.maxpool2 = MaxPool2d(kernel_size=(2,2), stride=(2,2))\n",
    "\n",
    "        # FC layer\n",
    "        self.fc1 = Linear(in_features=800, out_features=500)\n",
    "        self.relu3 = ReLU()\n",
    "\n",
    "        # softmax\n",
    "        self.fc2 = Linear(in_features=500, out_features=classes)\n",
    "        self.logSoftmax = LogSoftmax(dim=1)\n",
    "\n",
    "    def forward(self, x):\n",
    "        hidden_states = []\n",
    "        \n",
    "        # pass the input through our first set of CONV => RELU =>\n",
    "        # POOL layers\n",
    "        x = self.conv1(x)\n",
    "        #hidden_states.append(x.clone())\n",
    "        x = self.relu1(x)\n",
    "        x = self.maxpool1(x)\n",
    "        \n",
    "        # pass the output from the previous layer through the second\n",
    "        # set of CONV => RELU => POOL layers\n",
    "        x = self.conv2(x)\n",
    "        #hidden_states.append(x.clone())\n",
    "        x = self.relu2(x)\n",
    "        x = self.maxpool2(x)\n",
    "        \n",
    "        # flatten the output from the previous layer and pass it\n",
    "        # through our only set of FC => RELU layers\n",
    "        x = flatten(x, 1)\n",
    "        x = self.fc1(x)\n",
    "        #hidden_states.append(x.clone())\n",
    "        x = self.relu3(x)\n",
    "        \n",
    "        # pass the output to our softmax classifier to get our output\n",
    "        # predictions\n",
    "        x = self.fc2(x)\n",
    "        output = self.logSoftmax(x)\n",
    "        \n",
    "        # return the output predictions\n",
    "        return output, hidden_states\n",
    "    "
   ]
  },
  {
   "cell_type": "markdown",
   "id": "84c6740b-b99f-441e-92e8-fa3078c3d0d3",
   "metadata": {},
   "source": [
    "-----------------------------------"
   ]
  },
  {
   "cell_type": "code",
   "execution_count": 23,
   "id": "94a8c102-936c-4933-aa03-d7bd95afe387",
   "metadata": {},
   "outputs": [
    {
     "data": {
      "text/plain": [
       "<torch._C.Generator at 0x7f5a1c1b5e50>"
      ]
     },
     "execution_count": 23,
     "metadata": {},
     "output_type": "execute_result"
    }
   ],
   "source": [
    "pretrained_model = \"kd_reg_e2.pth\"\n",
    "use_cuda=True\n",
    "# Set random seed for reproducibility\n",
    "torch.manual_seed(42)"
   ]
  },
  {
   "cell_type": "code",
   "execution_count": 24,
   "id": "dfd9b9bf-57b0-464e-8693-aef4ed66fe2f",
   "metadata": {},
   "outputs": [
    {
     "name": "stdout",
     "output_type": "stream",
     "text": [
      "CUDA Available:  True\n"
     ]
    }
   ],
   "source": [
    "test_loader = torch.utils.data.DataLoader(\n",
    "    datasets.MNIST(root='evaldata', train=False, download=True, transform=transforms.Compose([\n",
    "            transforms.ToTensor(),\n",
    "            transforms.Normalize((0.1307,), (0.3081,)),\n",
    "            ])),\n",
    "        batch_size=1, shuffle=True)\n",
    "\n",
    "# Define what device we are using\n",
    "print(\"CUDA Available: \",torch.cuda.is_available())\n",
    "device = torch.device(\"cuda\" if use_cuda and torch.cuda.is_available() else \"cpu\")\n",
    "\n",
    "def load_model(path):\n",
    "    # Initialize the network\n",
    "    model = LeNet(numChannels=1, classes=10).to(device)\n",
    "    \n",
    "    # Load the pretrained model\n",
    "    model = torch.load(path, map_location=device)\n",
    "    \n",
    "    # Set the model in evaluation mode. In this case this is for the Dropout layers\n",
    "    model.eval()\n",
    "\n",
    "    return model"
   ]
  },
  {
   "cell_type": "code",
   "execution_count": 25,
   "id": "0737cd65-916c-4455-8406-336619a7c6c6",
   "metadata": {},
   "outputs": [],
   "source": [
    "# PGD Attack\n",
    "# MNIST init\n",
    "def pgd_attack(model, images, labels, eps=0.3, alpha=2/255, iters=40) :\n",
    "    images = images.to(device)\n",
    "    labels = labels.to(device)\n",
    "    loss = nn.CrossEntropyLoss()\n",
    "        \n",
    "    ori_images = images.data\n",
    "        \n",
    "    for i in range(iters) :    \n",
    "        images.requires_grad = True\n",
    "        outputs, hs = model(images)\n",
    "\n",
    "        model.zero_grad()\n",
    "        cost = loss(outputs, labels).to(device)\n",
    "        cost.backward()\n",
    "\n",
    "        adv_images = images + alpha*images.grad.sign()\n",
    "        eta = torch.clamp(adv_images - ori_images, min=-eps, max=eps)\n",
    "        images = torch.clamp(ori_images + eta, min=0, max=1).detach_()\n",
    "            \n",
    "    return images"
   ]
  },
  {
   "cell_type": "code",
   "execution_count": 27,
   "id": "ac8f4947-3cfd-4ff9-9c0f-0471db304c8b",
   "metadata": {},
   "outputs": [
    {
     "name": "stdout",
     "output_type": "stream",
     "text": [
      "Accuracy of test text: 98.230000 %\n",
      "Accuracy of test text: 97.740000 %\n",
      "Accuracy of test text: 97.650000 %\n",
      "Accuracy of test text: 97.480000 %\n",
      "Accuracy of test text: 90.040000 %\n",
      "Accuracy of test text: 99.070000 %\n",
      "Accuracy of test text: 98.660000 %\n",
      "Accuracy of test text: 98.290000 %\n",
      "Accuracy of test text: 98.140000 %\n",
      "Accuracy of test text: 97.930000 %\n",
      "Accuracy of test text: 92.130000 %\n",
      "Accuracy of test text: 98.700000 %\n",
      "Accuracy of test text: 98.230000 %\n",
      "Accuracy of test text: 97.830000 %\n",
      "Accuracy of test text: 97.660000 %\n",
      "Accuracy of test text: 97.560000 %\n",
      "Accuracy of test text: 91.620000 %\n"
     ]
    }
   ],
   "source": [
    "epsilons = [0, .1, .2, .3, .4, .5]\n",
    "models = ['no_reg.pth', 'kd_fconly_reg_e2.pth', 'kd_fconly_reg_e3.pth']\n",
    "\n",
    "X = []\n",
    "y = []\n",
    "\n",
    "for idx, m in enumerate(models):\n",
    "    mod = load_model(m)\n",
    "\n",
    "    push = []\n",
    "    \n",
    "    for e in epsilons:\n",
    "        total = 0\n",
    "        correct = 0\n",
    "        \n",
    "        for i, l in test_loader:\n",
    "            images = pgd_attack(mod, i, l, e, iters=20)\n",
    "            labels = l.to(device)\n",
    "\n",
    "            outputs, hs = mod(images)\n",
    "    \n",
    "            _, pre = torch.max(outputs.data, 1)\n",
    "        \n",
    "            total += 1\n",
    "            correct += (pre == labels).sum()\n",
    "\n",
    "        push.append(correct / total)\n",
    "            \n",
    "        print('Accuracy of test text: %f %%' % (100 * float(correct) / total))\n",
    "\n",
    "    y.append(push)\n",
    "    X.append(epsilons)"
   ]
  },
  {
   "cell_type": "markdown",
   "id": "ce66343c-5cf2-48f0-9dc8-0f4b47d1f0d0",
   "metadata": {},
   "source": [
    "---------------------------------------------"
   ]
  },
  {
   "cell_type": "code",
   "execution_count": 31,
   "id": "dcb3e352-ffa5-471f-a521-f42e7f4dfaf9",
   "metadata": {},
   "outputs": [
    {
     "data": {
      "image/png": "[encoded data removed]",
      "text/plain": [
       "<Figure size 500x500 with 1 Axes>"
      ]
     },
     "metadata": {},
     "output_type": "display_data"
    }
   ],
   "source": [
    "plt.figure(figsize=(5,5))\n",
    "plt.plot(epsilons, [x.cpu() for x in y[0]], \"*-\", label='No Regularization')\n",
    "plt.plot(epsilons, [x.cpu() for x in y[1]], \"*-\", color='purple', label='KD lam=1e-2')\n",
    "plt.plot(epsilons, [x.cpu() for x in y[2]], \"*-\", color='red', label='KD lam=1e-3')\n",
    "#plt.yticks(np.arange(0, 1.1, step=0.1))\n",
    "plt.xticks(np.arange(0, .35, step=0.05))\n",
    "plt.title(\"PGD Attack Accuracy vs Epsilon (FC Only)\")\n",
    "plt.xlabel(\"Epsilon\")\n",
    "plt.ylabel(\"Accuracy\")\n",
    "plt.legend()\n",
    "plt.savefig('pgd_all_vs_ep_fconly.pdf')\n",
    "plt.show()"
   ]
  },
  {
   "cell_type": "code",
   "execution_count": 29,
   "id": "a28ae00e-cb2e-44a7-a5c4-93bda824baf4",
   "metadata": {},
   "outputs": [],
   "source": [
    "import pickle\n",
    "\n",
    "# Specify the file path where you want to save the object\n",
    "file_path = 'pgd_outputs_fconly.pkl'\n",
    "\n",
    "# Open the file in binary write mode\n",
    "with open(file_path, 'wb') as file:\n",
    "    # Use pickle to serialize and save the object to the file\n",
    "    pickle.dump((X, y), file)"
   ]
  },
  {
   "cell_type": "code",
   "execution_count": 11,
   "id": "ca74648d-64c6-428f-9a8b-a40099c84d8a",
   "metadata": {},
   "outputs": [],
   "source": [
    "def force_cudnn_initialization():\n",
    "    s = 32\n",
    "    dev = torch.device('cuda')\n",
    "    torch.nn.functional.conv2d(torch.zeros(s, s, s, s, device=dev), torch.zeros(s, s, s, s, device=dev))"
   ]
  },
  {
   "cell_type": "code",
   "execution_count": 13,
   "id": "ddb0dbe2-33a5-45ca-91d0-85c0efe3d375",
   "metadata": {},
   "outputs": [
    {
     "ename": "RuntimeError",
     "evalue": "cuDNN error: CUDNN_STATUS_NOT_INITIALIZED",
     "output_type": "error",
     "traceback": [
      "\u001b[0;31m---------------------------------------------------------------------------\u001b[0m",
      "\u001b[0;31mRuntimeError\u001b[0m                              Traceback (most recent call last)",
      "Cell \u001b[0;32mIn[13], line 1\u001b[0m\n\u001b[0;32m----> 1\u001b[0m force_cudnn_initialization()\n",
      "Cell \u001b[0;32mIn[11], line 4\u001b[0m, in \u001b[0;36mforce_cudnn_initialization\u001b[0;34m()\u001b[0m\n\u001b[1;32m      2\u001b[0m s \u001b[38;5;241m=\u001b[39m \u001b[38;5;241m32\u001b[39m\n\u001b[1;32m      3\u001b[0m dev \u001b[38;5;241m=\u001b[39m torch\u001b[38;5;241m.\u001b[39mdevice(\u001b[38;5;124m'\u001b[39m\u001b[38;5;124mcuda\u001b[39m\u001b[38;5;124m'\u001b[39m)\n\u001b[0;32m----> 4\u001b[0m torch\u001b[38;5;241m.\u001b[39mnn\u001b[38;5;241m.\u001b[39mfunctional\u001b[38;5;241m.\u001b[39mconv2d(torch\u001b[38;5;241m.\u001b[39mzeros(s, s, s, s, device\u001b[38;5;241m=\u001b[39mdev), torch\u001b[38;5;241m.\u001b[39mzeros(s, s, s, s, device\u001b[38;5;241m=\u001b[39mdev))\n",
      "\u001b[0;31mRuntimeError\u001b[0m: cuDNN error: CUDNN_STATUS_NOT_INITIALIZED"
     ]
    }
   ],
   "source": [
    "force_cudnn_initialization()"
   ]
  }
 ],
 "metadata": {
  "kernelspec": {
   "display_name": "Python [conda env:cv-py39]",
   "language": "python",
   "name": "conda-env-cv-py39-py"
  },
  "language_info": {
   "codemirror_mode": {
    "name": "ipython",
    "version": 3
   },
   "file_extension": ".py",
   "mimetype": "text/x-python",
   "name": "python",
   "nbconvert_exporter": "python",
   "pygments_lexer": "ipython3",
   "version": "3.9.18"
  }
 },
 "nbformat": 4,
 "nbformat_minor": 5
}
